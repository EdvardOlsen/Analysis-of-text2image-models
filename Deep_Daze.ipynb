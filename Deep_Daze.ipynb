{
  "nbformat": 4,
  "nbformat_minor": 0,
  "metadata": {
    "colab": {
      "name": "Deep Daze",
      "provenance": [],
      "collapsed_sections": []
    },
    "kernelspec": {
      "name": "python3",
      "display_name": "Python 3"
    },
    "accelerator": "GPU"
  },
  "cells": [
    {
      "cell_type": "code",
      "metadata": {
        "id": "YpRu6LTR2LbD"
      },
      "source": [
        "!pip install deep-daze --upgrade"
      ],
      "execution_count": null,
      "outputs": []
    },
    {
      "cell_type": "code",
      "metadata": {
        "id": "6IPQ_rdA2Sa7"
      },
      "source": [
        "from tqdm.notebook import trange\n",
        "from IPython.display import Image, display\n",
        "\n",
        "from deep_daze import Imagine\n",
        "\n",
        "TEXT = '3 apples and 2 bananas on a silver plate' #@param {type:\"string\"}\n",
        "NUM_LAYERS = 32 #@param {type:\"number\"}\n",
        "SAVE_EVERY =  20#@param {type:\"number\"}\n",
        "IMAGE_WIDTH = 512 #@param {type:\"number\"}\n",
        "SAVE_PROGRESS = True #@param {type:\"boolean\"}\n",
        "LEARNING_RATE = 1e-5 #@param {type:\"number\"}\n",
        "ITERATIONS = 1050 #@param {type:\"number\"}\n",
        "\n",
        "model = Imagine(\n",
        "    text = TEXT,\n",
        "    num_layers = NUM_LAYERS,\n",
        "    save_every = SAVE_EVERY,\n",
        "    image_width = IMAGE_WIDTH,\n",
        "    lr = LEARNING_RATE,\n",
        "    iterations = ITERATIONS,\n",
        "    save_progress = SAVE_PROGRESS\n",
        ")\n",
        "\n",
        "for epoch in trange(20, desc = 'epochs'):\n",
        "    for i in trange(ITERATIONS, desc = 'iteration'):\n",
        "        model.train_step(epoch, i)\n",
        "\n",
        "        if i % model.save_every != 0:\n",
        "            continue\n",
        "\n",
        "        filename = TEXT.replace(' ', '_')\n",
        "        image = Image(f'./{filename}.jpg')\n",
        "        display(image)"
      ],
      "execution_count": null,
      "outputs": []
    }
  ]
}